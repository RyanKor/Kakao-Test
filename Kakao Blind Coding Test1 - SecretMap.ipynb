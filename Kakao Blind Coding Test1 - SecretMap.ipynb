{
 "cells": [
  {
   "cell_type": "markdown",
   "metadata": {},
   "source": [
    "# 2018 카카오 코딩테스트 1번 문제 풀이(Python)\n",
    "---"
   ]
  },
  {
   "cell_type": "code",
   "execution_count": 1,
   "metadata": {},
   "outputs": [
    {
     "name": "stdout",
     "output_type": "stream",
     "text": [
      "['#####', '# # #', '### #', '#  ##', '#####']\n",
      "['######', '###  #', '##  ##', ' #### ', ' #####', '### # ']\n"
     ]
    }
   ],
   "source": [
    "def secretMap(n, arr1, arr2):\n",
    "    \n",
    "    answer = [] #주어진 정답 값이 더해질 배열 지정\n",
    "    for i in range(len(arr1)):\n",
    "        arr1[i] = bin(arr1[i])\n",
    "        arr1[i] = arr1[i][2:] #bin 내장 함수 사용시 몇 몇 이진수들의 자리수가 테스트에서 제공하는 자리수와 매치되지 않는 경우 있음\n",
    "        if(len(arr1[i])<n):\n",
    "            while(len(arr1[i])<n):\n",
    "                arr1[i] = \"0\"+arr1[i]\n",
    "                \n",
    "    for i in range(len(arr2)):\n",
    "        arr2[i] = bin(arr2[i])\n",
    "        arr2[i] = arr2[i][2:]\n",
    "        if (len(arr2[i]) < n):\n",
    "            while (len(arr2[i]) < n):\n",
    "                arr2[i] = \"0\" + arr2[i]  # 여기까지 내가 이해하는 부분\n",
    "                \n",
    "    for i in range(n):\n",
    "        temp = \"\"\n",
    "        for j in range(n):\n",
    "            if(arr1[i][j]==\"1\" or arr2[i][j]==\"1\"):\n",
    "                temp += \"1\";\n",
    "            if(arr1[i][j] ==\"0\" and arr2[i][j] == \"0\"):\n",
    "                temp+=\"0\"\n",
    "        answer.append(temp)    \n",
    "        \n",
    "    for i in range(n):\n",
    "        temp =\"\"\n",
    "        for j in range(n):\n",
    "            if(answer[i][j]==\"1\"):\n",
    "                temp += \"#\"\n",
    "            if(answer[i][j]==\"0\"):\n",
    "                temp += \" \"\n",
    "                \n",
    "        answer[i] = temp\n",
    "    return answer\n",
    "    \n",
    "def main():\n",
    "    print(secretMap(5, [9, 20, 28, 18, 11], [30, 1, 21, 17, 28]))\n",
    "    print(secretMap(6, [46, 33, 33, 22, 31, 50], [27, 56, 19, 14, 14, 10]))\n",
    "    \n",
    "if __name__ == \"__main__\":\n",
    "    main()"
   ]
  },
  {
   "cell_type": "markdown",
   "metadata": {},
   "source": [
    "---"
   ]
  },
  {
   "cell_type": "code",
   "execution_count": null,
   "metadata": {},
   "outputs": [],
   "source": []
  },
  {
   "cell_type": "code",
   "execution_count": null,
   "metadata": {},
   "outputs": [],
   "source": []
  },
  {
   "cell_type": "code",
   "execution_count": null,
   "metadata": {},
   "outputs": [],
   "source": [
    "#     bin_arr1 = []\n",
    "#     bin_arr2 = []\n",
    "#     result1 = []\n",
    "#     result2 = []\n",
    "#     for i in range(len(arr1)):\n",
    "#         a = bin(arr1[i])[2:]\n",
    "#         bin_arr1.append(a)\n",
    "        \n",
    "# #         bin_arr1.replace('1', '#')\n",
    "\n",
    "#     for num in range(len(bin_arr1)):\n",
    "#         if bin_arr1[num] == 1:\n",
    "#             x =  bin_arr1[num].replace('00001')\n",
    "#             bin_arr1[num] = x\n",
    "            \n",
    "# #     for nums in bin_arr1.split(\",\")\n",
    "# #         if len(nums) == 5:\n",
    "# #             return nums\n",
    "    \n",
    "#     for j in range(len(arr2)):\n",
    "#         b = bin(arr2[j])[2:]\n",
    "#         bin_arr2.append(b)\n",
    "    \n",
    "#     for nums in range(len(bin_arr2)):\n",
    "#         if bin_arr2[nums] == 1:\n",
    "#             x = bin_arr2[nums].replace('00001')\n",
    "#             bin_arr2[nums] = x\n",
    "    \n",
    "        \n",
    "#     return bin_arr1, bin_arr2"
   ]
  }
 ],
 "metadata": {
  "kernelspec": {
   "display_name": "Python 3",
   "language": "python",
   "name": "python3"
  },
  "language_info": {
   "codemirror_mode": {
    "name": "ipython",
    "version": 3
   },
   "file_extension": ".py",
   "mimetype": "text/x-python",
   "name": "python",
   "nbconvert_exporter": "python",
   "pygments_lexer": "ipython3",
   "version": "3.6.5"
  }
 },
 "nbformat": 4,
 "nbformat_minor": 2
}
