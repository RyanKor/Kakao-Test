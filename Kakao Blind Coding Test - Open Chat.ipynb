{
 "cells": [
  {
   "cell_type": "code",
   "execution_count": 6,
   "metadata": {},
   "outputs": [
    {
     "name": "stdout",
     "output_type": "stream",
     "text": [
      "[]\n"
     ]
    }
   ],
   "source": [
    "def solution(record):\n",
    "    answer = []\n",
    "    dic3 = {'uid1234':'Muzi', 'uid4567':'Prodo', 'uid1234':'Prodo'}\n",
    "    a = ''\n",
    "    b = ''\n",
    "    c = ''\n",
    "    d = ''\n",
    "    for i in range(len(record)):\n",
    "        if record[i][:5] == \"Enter\":\n",
    "            if record[i][7:14] == \"uid1234\":\n",
    "                a = dic3['uid1234'] + \"님이 들어왔습니다.\"\n",
    "                answer.append(a)\n",
    "            elif record[i][7:14] == \"uid4567\":\n",
    "                b = dic3['uid4567'] + \"님이 들어왔습니다.\"\n",
    "                answer.append(b)\n",
    "        elif record[i][0:5] == \"Leave\":\n",
    "            if record[i][7:14] == \"uid1234\":\n",
    "                c = dic3['uid1234'] + \"님이 나갔습니다.\"\n",
    "                answer.append(c)\n",
    "            elif record[i][7:14] == \"uid4567\":\n",
    "                d = dic3['uid4567'] + \"님이 나갔습니다.\"\n",
    "                answer.append(d)\n",
    "        elif record[i][0:5] ==\"Change\":\n",
    "            dic['uid4567'] = \"Ryan\"\n",
    "        return answer\n",
    "    \n",
    "def main():\n",
    "    print(solution([\"Enter uid1234 Muzi\", \"Enter uid4567 Prodo\",\"Leave uid1234\",\"Enter uid1234 Prodo\",\"Change uid4567 Ryan\"]))\n",
    "    \n",
    "if __name__ == \"__main__\":\n",
    "    main()    "
   ]
  },
  {
   "cell_type": "code",
   "execution_count": null,
   "metadata": {},
   "outputs": [],
   "source": []
  }
 ],
 "metadata": {
  "kernelspec": {
   "display_name": "Python 3",
   "language": "python",
   "name": "python3"
  },
  "language_info": {
   "codemirror_mode": {
    "name": "ipython",
    "version": 3
   },
   "file_extension": ".py",
   "mimetype": "text/x-python",
   "name": "python",
   "nbconvert_exporter": "python",
   "pygments_lexer": "ipython3",
   "version": "3.6.5"
  }
 },
 "nbformat": 4,
 "nbformat_minor": 2
}
